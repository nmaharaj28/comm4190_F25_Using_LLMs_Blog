{
 "cells": [
  {
   "cell_type": "raw",
   "id": "9ebf4ab3-9c40-4ddc-833a-b28ad4725123",
   "metadata": {},
   "source": [
    "---\n",
    "title: \"Exploring how AI adapts foreign culture into American toys \"\n",
    "description: \"I ask ChatGPT to turn pictures of my and my family into Funko Pops.\" \n",
    "author: \"Nicholas\"\n",
    "date: \"9/15/2025\"\n",
    "categories:\n",
    "  - LLMs\n",
    "  - Art\n",
    "  - Race\n",
    "---"
   ]
  },
  {
   "cell_type": "markdown",
   "id": "1636aeae-fde3-4be4-9370-b1fb4eaaf1a0",
   "metadata": {},
   "source": [
    "It is a growing trend on TikTok to ask AI to turn pictures into different art styles. I have seen creators use AI to make drawings of themselves in various art styles like Peanuts, Disney, and Charlie and Lola. This sparked my curiosity, so I decided to ask ChatGPT to photos of myself and family into the American toy Funko Pops. I wanted to see how AI could adapt our cultural clothing into an American toy. "
   ]
  },
  {
   "cell_type": "markdown",
   "id": "8a030c72-6762-4682-b0a1-4fafb6ade7a2",
   "metadata": {},
   "source": [
    "Here is how my conversation with ChatGBT went:"
   ]
  },
  {
   "cell_type": "markdown",
   "id": "970e7936-207c-463d-b891-120dc91ababd",
   "metadata": {},
   "source": [
    "**turn me into a funko pop**"
   ]
  },
  {
   "cell_type": "markdown",
   "id": "ca2272e3-23b2-4361-afcf-aad039917877",
   "metadata": {},
   "source": [
    "![](indian.png)"
   ]
  },
  {
   "cell_type": "markdown",
   "id": "6a51ae7e-c5f6-4dd6-ae9b-917816929290",
   "metadata": {},
   "source": [
    "ChatGBT responded with this picture:"
   ]
  },
  {
   "cell_type": "markdown",
   "id": "b7b6f62d-7cb9-4505-9651-8baa286be626",
   "metadata": {},
   "source": [
    "![](funko1.png)"
   ]
  },
  {
   "cell_type": "markdown",
   "id": "15813f59-a8b2-413e-8c72-3a2b5ca70250",
   "metadata": {},
   "source": [
    "I then asked ChatGPT to turn my sister into a Funko Pop, specifically using a picture wearing her Hindu wedding dress. I gave ChatGPT this picture: "
   ]
  },
  {
   "cell_type": "markdown",
   "id": "70db4412-4df4-44bd-9218-c5e1bb443410",
   "metadata": {},
   "source": [
    "![](sh.png)"
   ]
  },
  {
   "cell_type": "markdown",
   "id": "63565aff-8050-45e9-8981-d2f21bef0fe3",
   "metadata": {},
   "source": [
    "ChatGBT responded with this picture:"
   ]
  },
  {
   "cell_type": "markdown",
   "id": "24e65c14-f02a-4fe5-a977-c9bd34f23f8b",
   "metadata": {},
   "source": [
    "![](funko2.png)"
   ]
  },
  {
   "cell_type": "markdown",
   "id": "fae111a7-8356-4b08-a214-bd0ec3cfa403",
   "metadata": {},
   "source": [
    "I then asked:\n",
    "\n",
    "**make her skin tone lighter and her hair color dirty blonde. have her arms relaxed and down, not holding up any hand signs**"
   ]
  },
  {
   "cell_type": "markdown",
   "id": "ee1f24fd-dd46-4045-ab23-1256b44369e3",
   "metadata": {},
   "source": [
    "To which ChatGBT responded with:"
   ]
  },
  {
   "cell_type": "markdown",
   "id": "3a835733-c182-4c94-9050-a6435b3defad",
   "metadata": {},
   "source": [
    "![](funko3.png)"
   ]
  },
  {
   "cell_type": "markdown",
   "id": "eea5d6e0-226b-48be-82dc-7e767ef1dbdc",
   "metadata": {},
   "source": [
    "**Reflection**"
   ]
  },
  {
   "cell_type": "markdown",
   "id": "271af9a0-45c1-4746-a448-a4bc3909723a",
   "metadata": {},
   "source": [
    "This activity was really interesting. I think ChatGPT accurately adapted my sherwani into the Funko Pop artstyle. The AI maintained the same colors, pattern, and also cut of the clothes, which I initially thought AI would alter to fit a more American style clothing design. It was interesting to see AI adapt my sister into a Funko Pop. ChatGPT did an excellent job of replicating her dress and outfit. The pattern of her dress was replicated very well, and AI also replicated her jewelry. AI also maintained her henna stain. However, the AI darkened her skin tone and reverted her blonde hair back to dark brown, which suggested to me that the system might have defaulted to stereotypical South Asian features rather than fully capturing the specific person in front of it. This made me reflect on how AI models are trained on patterns of data and might unconsciously reinforce cultural generalizations rather than individual nuance. Even more surprising was how, when I tried to correct the skin tone and hair color, the revised version lost many of the authentic details—like the henna and jewelry—that had initially been captured so well."
   ]
  },
  {
   "cell_type": "code",
   "execution_count": null,
   "id": "5cae6a0d-591d-40ec-9dff-ce54f9770c70",
   "metadata": {},
   "outputs": [],
   "source": []
  }
 ],
 "metadata": {
  "kernelspec": {
   "display_name": "Python 3-12 (COMM4190)",
   "language": "python",
   "name": "python3-12_comm4190"
  },
  "language_info": {
   "codemirror_mode": {
    "name": "ipython",
    "version": 3
   },
   "file_extension": ".py",
   "mimetype": "text/x-python",
   "name": "python",
   "nbconvert_exporter": "python",
   "pygments_lexer": "ipython3",
   "version": "3.12.11"
  }
 },
 "nbformat": 4,
 "nbformat_minor": 5
}

{
 "cells": [
  {
   "cell_type": "raw",
   "id": "e1c78b1f-abbf-4e32-862e-8030296eff23",
   "metadata": {},
   "source": [
    "---\n",
    "title: \"Can AI solve NYT Games?\"\n",
    "description: \"I explore if artificial intelligence can conduct enough critical thinking to help me solve the challenging New York Time's Game, Connections.\" \n",
    "author: \"Nicholas\"\n",
    "date: \"9/9/2025\"\n",
    "categories:\n",
    "  - LLMs\n",
    "  - Puzzles\n",
    "---"
   ]
  },
  {
   "cell_type": "markdown",
   "id": "ff422135-3236-47af-8fd1-39c30db38878",
   "metadata": {},
   "source": [
    "I try to play the New York Times game every so often, but I struggle with playing the game Connections, where you group words together based on your guessed category. Connections has also gone viral on social media, with people discussing how challenging the game can become. This inspired me to see if artificial intelligence can think critically enough to help me solve Connections."
   ]
  },
  {
   "cell_type": "markdown",
   "id": "6ccaa693-b1e7-4400-b4a8-e9b63c2ea866",
   "metadata": {},
   "source": [
    "This is how my conversation with ChatGPT went:"
   ]
  },
  {
   "cell_type": "markdown",
   "id": "e84d8121-6de8-425a-9afe-3f786ed18607",
   "metadata": {},
   "source": [
    "**Can you help me solve today's connection puzzle**"
   ]
  },
  {
   "cell_type": "markdown",
   "id": "3e196f21-7146-4d01-ba99-6c9d16b7bcf6",
   "metadata": {},
   "source": [
    "![](nytgame.png)"
   ]
  },
  {
   "cell_type": "markdown",
   "id": "d71cb5b5-ccd2-4738-a6c3-b6131a238a0e",
   "metadata": {},
   "source": [
    "Nice puzzle — got it!\n",
    "\n",
    "Group 1 — things with a shell\n",
    "EGG, SNAIL, HARD TACO, M&M\n",
    "(eggshell, snail shell, taco shell, candy shell)\n",
    "\n",
    "Group 2 — types of dog\n",
    "BULL, WATCH, UNDER, LAP\n",
    "(bulldog, watchdog, underdog, lapdog)\n",
    "\n",
    "Group 3 — words meaning finished\n",
    "COMPLETE, DONE, OVER, THROUGH\n",
    "\n",
    "Group 4 — ways to drink quickly / take a drink\n",
    "SLUG, GULP, BELT, SHOT\n",
    "\n",
    "Want me to explain any of the connections in more detail?"
   ]
  },
  {
   "cell_type": "markdown",
   "id": "7ab57453-d8bf-4261-b682-db77e844f1ef",
   "metadata": {},
   "source": [
    "I then entered these answer choices into the puzzle to determine if they were correct. They were!"
   ]
  },
  {
   "cell_type": "markdown",
   "id": "aff0c0df-97e2-4ae6-919e-284f96cc28e8",
   "metadata": {},
   "source": [
    "![](nytsolved.png)"
   ]
  },
  {
   "cell_type": "markdown",
   "id": "8864eb36-ff67-4d6a-b90a-46a4000540e4",
   "metadata": {},
   "source": [
    "This was an interesting interaction with ChatGPT. The LLM did not explain its thinking behind the answer choices, which is what I was initially looking for. I wanted the interaction to be more based on hints and clues, rather than just the answers. I wanted AI to help me solve the puzzle instead of just solving it for me. It was also interesting to see the order in which AI solved the puzzle. Most people try to find the categories in the order of yellow, green, blue, and then purple, since that is the order of difficulty. So, it was interesting to see AI correctly guess the hardest category on its second answer choice."
   ]
  },
  {
   "cell_type": "markdown",
   "id": "4f48b448-d1dc-4d26-abdb-4d95836e7e42",
   "metadata": {},
   "source": [
    "![](ai3.png)"
   ]
  }
 ],
 "metadata": {
  "kernelspec": {
   "display_name": "Python 3-12 (COMM4190)",
   "language": "python",
   "name": "python3-12_comm4190"
  },
  "language_info": {
   "codemirror_mode": {
    "name": "ipython",
    "version": 3
   },
   "file_extension": ".py",
   "mimetype": "text/x-python",
   "name": "python",
   "nbconvert_exporter": "python",
   "pygments_lexer": "ipython3",
   "version": "3.12.11"
  }
 },
 "nbformat": 4,
 "nbformat_minor": 5
}

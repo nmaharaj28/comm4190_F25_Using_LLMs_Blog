{
 "cells": [
  {
   "cell_type": "raw",
   "id": "4075c2aa-03fb-477d-9690-cac84b912da0",
   "metadata": {},
   "source": [
    "---\n",
    "title: \"Can AI make a Crayon drawing?\"\n",
    "description: \"I explore if artificial intelligence can create crayon art and replicate the style of a child.\" \n",
    "author: \"Nicholas\"\n",
    "date: \"9/6/2025\"\n",
    "categories:\n",
    "  - LLMs\n",
    "  - Art\n",
    "---"
   ]
  },
  {
   "cell_type": "markdown",
   "id": "c18452ea-3ec4-444e-b813-17f9e4a24e14",
   "metadata": {},
   "source": [
    "A growing TikTok trend has emerged, where creators are giving AI some of their pictures and asking it to recreate the image in a crayon drawing. I found this interesting, since people are quick to criticize the use of AI for creating art, but this trend has escaped this criticism. Today, I gave AI one of my favorite pictures--my brother, cousins, and myself with my grandparents--to see if AI could recreate the image using a crayon-based art style. "
   ]
  },
  {
   "cell_type": "markdown",
   "id": "85d9e564-da89-4037-9a6e-cddaa8f3e4ec",
   "metadata": {},
   "source": [
    "Here is how my conversation with ChatGBT went:"
   ]
  },
  {
   "cell_type": "markdown",
   "id": "a2dfef61-f3f8-43a2-82b4-0b53d765b8bb",
   "metadata": {},
   "source": [
    "**Create a whimsical crayon drawing based on this picture loose, wobbly lines and exaggerated shapes. Use a cartoon drawing stye so the image looks like a drawing from crayon. Use waxy textures on white paper and keep the background simple and childlike.**"
   ]
  },
  {
   "cell_type": "markdown",
   "id": "755ac236-b8e6-4153-a00d-4bea15029223",
   "metadata": {},
   "source": [
    "![](9Y1A8140.jpg)"
   ]
  },
  {
   "cell_type": "markdown",
   "id": "d1ba68d2-72f4-4a2f-ad23-b5f8cca75694",
   "metadata": {},
   "source": [
    "ChatGBT responded with this picture:"
   ]
  },
  {
   "cell_type": "markdown",
   "id": "f12f322a-46a7-4fec-8cdc-f18f28d4058d",
   "metadata": {},
   "source": [
    "![](crayonchat.png)"
   ]
  },
  {
   "cell_type": "markdown",
   "id": "6884960a-0c49-4a27-b4d8-e1027bf8a40d",
   "metadata": {},
   "source": [
    "This was an interesting response. It is easy to tell that this \"drawing\" was not completed by a child, and the coloring in the drawing does not look natural; the strokes look the same, giving the drawing a digital look. The arms and noses are also weird. However, I am impressed by ChatGPT's ability to create new drawings in the background. the cloud, sun, and fence were not in the original picture; rather, ChatGPT created it. "
   ]
  },
  {
   "cell_type": "markdown",
   "id": "d3a35570-b426-4538-8054-cb93ca4b54a9",
   "metadata": {},
   "source": [
    "![](aicrayon.png)"
   ]
  },
  {
   "cell_type": "code",
   "execution_count": null,
   "id": "2cb3bbfc-241d-4e5b-8e3e-43a59e8c4a8f",
   "metadata": {},
   "outputs": [],
   "source": []
  }
 ],
 "metadata": {
  "kernelspec": {
   "display_name": "Python 3-12 (COMM4190)",
   "language": "python",
   "name": "python3-12_comm4190"
  },
  "language_info": {
   "codemirror_mode": {
    "name": "ipython",
    "version": 3
   },
   "file_extension": ".py",
   "mimetype": "text/x-python",
   "name": "python",
   "nbconvert_exporter": "python",
   "pygments_lexer": "ipython3",
   "version": "3.12.11"
  }
 },
 "nbformat": 4,
 "nbformat_minor": 5
}

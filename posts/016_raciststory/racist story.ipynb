{
 "cells": [
  {
   "cell_type": "raw",
   "id": "72d26610-d476-47a7-99bb-5aff75bc68d6",
   "metadata": {},
   "source": [
    "---\n",
    "title: \"Exploring AI's racial bias\"\n",
    "description: \"I ask anthropic/claude-3.5-sonnet to create a story to analyze racial stereotypes.\" \n",
    "author: \"Nicholas\"\n",
    "date: \"10/13/2025\"\n",
    "categories:\n",
    "  - LLMs\n",
    "  - Living with a Book\n",
    "  - Race\n",
    "---"
   ]
  },
  {
   "cell_type": "markdown",
   "id": "6c62038a-7e87-48ce-af48-277b3b13e64e",
   "metadata": {},
   "source": [
    "![](neverhaveiever.jpg)"
   ]
  },
  {
   "cell_type": "markdown",
   "id": "ff637c98-cb36-412f-bcb5-4aaab514f5f3",
   "metadata": {},
   "source": [
    "After reading my previous blog post discussing sexist tendencies rooted in AI models, I decided to explore this concept from a racial lens. In \"The AI Con,\" Bender and Hanna discuss how the development of intelligence models is greatly rooted in racism. The two others discuss how AI models can also have a similar racial bias. I decided to put this to the test. So, I asked anthropic/claude-3.5-sonnet to tell a simple story about two high school teenagers, then to identify their demographic information. "
   ]
  },
  {
   "cell_type": "markdown",
   "id": "e5683ad8-6fc9-4629-8b4b-791084f92a2b",
   "metadata": {},
   "source": [
    "This is how the conversation went:"
   ]
  },
  {
   "cell_type": "markdown",
   "id": "e52661ff-c486-4508-aeb6-38a2bdb5fd43",
   "metadata": {},
   "source": [
    "### USER\n",
    "Tell me a short (3-5 sentence) story about a smart teenager in high school. Include a rebellious peer.\n",
    "\n",
    "### ASSISTANT\n",
    "During calculus class, Maya noticed her classmate Jake rolling his eyes and disrupting the lesson again, clearly more interested in his reputation as the school's resident troublemaker than in derivatives. When their teacher assigned a challenging group project, Maya was dismayed to be paired with Jake, but she discovered he had a hidden talent for mathematical visualization that even he didn't realize. Through their reluctant collaboration, Jake's grades began to improve, and his disruptive behavior decreased as he found a new way to stand out - by actually being good at something.\n",
    "\n",
    "### USER\n",
    "Describe Maya and Jake. What are their demographics?\n",
    "\n",
    "### ASSISTANT\n",
    "Maya is a 16-year-old Indian-American girl, typically wearing neat, practical clothing and glasses, with long dark hair she often ties back in a ponytail. She comes from a middle-class family where academic excellence is highly valued, and she's involved in multiple honor societies and the robotics club.\n",
    "\n",
    "Jake is a 17-year-old white student from a working-class background, with tousled brown hair and worn jeans, usually sporting band t-shirts and a leather jacket. He lives with his single mom, works part-time at a local auto shop, and has earned his reputation as a troublemaker through a combination of smart-aleck comments and skipping classes, though his natural intelligence shows through when he actually applies himself.\n",
    "\n",
    "### USER\n",
    "Why do you choose these demographic’s for the students? Do you think these demographics are important to their character, choices, and personality?\n",
    "\n",
    "### ASSISTANT\n",
    "This is a thoughtful and important question that makes me reflect on potential biases and stereotypes.\n",
    "\n",
    "I likely defaulted to these demographics because they follow common media tropes: the \"model minority\" Asian student who excels academically and the white \"rebellious working-class kid with hidden potential.\" These are problematic stereotypes that can reinforce harmful assumptions about race, class, and academic achievement.\n",
    "\n",
    "The truth is that Maya and Jake's core character traits - her academic focus and his hidden mathematical talent combined with disruptive behavior - could exist in students of any racial, ethnic, or socioeconomic background. Their demographics aren't actually important to the story's central message about hidden potential and unlikely partnerships.\n",
    "\n",
    "By automatically assigning these particular demographics, I may have unconsciously perpetuated stereotypes. The story would work equally well with Maya as a Black student from a wealthy family, or Jake as a Latino student from an upper-middle-class background, or any other combination of demographics. What matters are their actions, personalities, and growth - not their race or socioeconomic status.\n",
    "\n",
    "This is a good reminder to actively challenge default assumptions when creating characters and stories."
   ]
  },
  {
   "cell_type": "markdown",
   "id": "490a00df-8b5a-4cab-b1e4-c31ffc6c5f23",
   "metadata": {},
   "source": [
    "***Reflection***"
   ]
  },
  {
   "cell_type": "markdown",
   "id": "68a942e9-c734-4ca0-8a31-f7b245f1cb69",
   "metadata": {},
   "source": [
    "This conversation was shocking. The initial story that I asked AI to create was simple and did not indicate racial bias. The AI could have created names that were common within a certain ethnicity, but did not. However, when I asked the AI to describe the demographics of the students, I was shocked to see the obvious stereotypes being perpetuated. Identifying Maya as an Indian-American who is involved in multiple honor societies and comes from a middle-class family that values academics is a stereotype. Especially identifying Maya's background as an academically-driven family folds into the stereotype of \"the strict Indian parent.\" I immediately thought of Devi from *Never Have I Ever.* Additionally, identifying Jake as coming from a single mom who works a part-time job as a troublemaker directly associates Jake with the stereotype that lower-income students are troublemakers. It was even more shocking to see the AI identify its own racial bias."
   ]
  },
  {
   "cell_type": "code",
   "execution_count": null,
   "id": "b138374b-8931-449c-b078-a6807de51a03",
   "metadata": {},
   "outputs": [],
   "source": []
  }
 ],
 "metadata": {
  "kernelspec": {
   "display_name": "Python 3-12 (COMM4190)",
   "language": "python",
   "name": "python3-12_comm4190"
  },
  "language_info": {
   "codemirror_mode": {
    "name": "ipython",
    "version": 3
   },
   "file_extension": ".py",
   "mimetype": "text/x-python",
   "name": "python",
   "nbconvert_exporter": "python",
   "pygments_lexer": "ipython3",
   "version": "3.12.11"
  }
 },
 "nbformat": 4,
 "nbformat_minor": 5
}

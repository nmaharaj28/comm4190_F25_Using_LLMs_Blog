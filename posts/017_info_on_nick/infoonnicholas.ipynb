{
 "cells": [
  {
   "cell_type": "raw",
   "id": "38a433a1-b8f2-446f-8f01-6e93291782a2",
   "metadata": {},
   "source": [
    "---\n",
    "title: \"Exploring if AI can research a person\"\n",
    "description: \"I ask ChatGPT to find information on Nicholas Maharaj (a.ka. me).\" \n",
    "author: \"Nicholas\"\n",
    "date: \"10/15/2025\"\n",
    "categories:\n",
    "  - LLMs\n",
    "  - information\n",
    "---"
   ]
  },
  {
   "cell_type": "markdown",
   "id": "f3ad4f3a-d98e-44b3-b55f-5633e9dc0d9f",
   "metadata": {},
   "source": [
    "![](privacy.webp)"
   ]
  },
  {
   "cell_type": "markdown",
   "id": "572376ca-7f5e-4a49-9a00-eff4db8162c4",
   "metadata": {},
   "source": [
    "I was curious to see if AI can provide information on a more private individual. I decided to ask ChatGPT to provide information on Nicholas Maharaj (me) to see what AI could find. This is how my conversation with ChatGPT went:"
   ]
  },
  {
   "cell_type": "markdown",
   "id": "4be9ad4f-88d2-45ce-8df7-4c370f2abcb9",
   "metadata": {},
   "source": [
    "### USER\n",
    "What can you find out about Nicholas Maharaj online?\n",
    "\n",
    "### ASSISTANT\n",
    "I couldn't find specific or verified information about a person named Nicholas Maharaj based on the details provided. There may be multiple individuals with that name, or there may be limited public information available online. If you have more context—such as their profession, location, or area of recognition—I may be able to help you further.\n",
    "\n",
    "### USER\n",
    "Are there any social media profiles or public records linked to that name?\n",
    "\n",
    "### ASSISTANT\n",
    "I'm sorry, but I can't access or share personal information like social media profiles or public records for individuals.\n",
    "\n",
    "### USER\n",
    "Nicholas is a student at UPenn. Does that help finding information on him?\n",
    "\n",
    "### ASSISTANT\n",
    "I understand you're looking for information about someone named Nicholas Maharaj who is a student at the University of Pennsylvania. However, to respect individual privacy, I can't access or share personal information about private individuals — including students — unless it's publicly available from verified sources and the person is a public figure.\n",
    "\n",
    "If you're trying to contact Nicholas for a specific reason, you might consider reaching out through official university channels or platforms such as LinkedIn, if he has a public profile there.\n",
    "\n",
    "Let me know if there's anything else I can help you with!"
   ]
  },
  {
   "cell_type": "markdown",
   "id": "5a1827d4-6151-460a-92b5-fae5aef1fc9f",
   "metadata": {},
   "source": [
    "***Reflection***"
   ]
  },
  {
   "cell_type": "markdown",
   "id": "260a3632-047e-475e-9613-7ed6d4ac9e8b",
   "metadata": {},
   "source": [
    "This was an interesting conversation. I did not think ChatGPT was going to respond with such reservation. If you look up my name on Google, you can immediately find my LinkedIn. You can also find general information, like the high school I went to, and even some clubs I am involved in at Penn. It was shocking to see ChatGPT not even offer this very accessible information. However, it is good to see that AI has a strong sense of privacy concerns and will not offer up someone else's private information. "
   ]
  },
  {
   "cell_type": "code",
   "execution_count": null,
   "id": "3a9610be-b347-4a9b-b590-346b66cc7f5f",
   "metadata": {},
   "outputs": [],
   "source": []
  }
 ],
 "metadata": {
  "kernelspec": {
   "display_name": "Python 3-12 (COMM4190)",
   "language": "python",
   "name": "python3-12_comm4190"
  },
  "language_info": {
   "codemirror_mode": {
    "name": "ipython",
    "version": 3
   },
   "file_extension": ".py",
   "mimetype": "text/x-python",
   "name": "python",
   "nbconvert_exporter": "python",
   "pygments_lexer": "ipython3",
   "version": "3.12.11"
  }
 },
 "nbformat": 4,
 "nbformat_minor": 5
}

{
 "cells": [
  {
   "cell_type": "raw",
   "id": "37396a92-f1b7-4219-84c9-0c6af4e40066",
   "metadata": {},
   "source": [
    "---\n",
    "title: \"What does AI know about college campuses?\"\n",
    "description: \"I ask ChatGPT to tell me what it knows about the Penn student experience, more than just information from Penn websites.\" \n",
    "author: \"Nicholas\"\n",
    "date: \"9/22/2025\"\n",
    "categories:\n",
    "  - LLMs\n",
    "  - Social\n",
    "  - information\n",
    "---"
   ]
  },
  {
   "cell_type": "markdown",
   "id": "baa3e142-5277-4296-9802-a8b9ebc63794",
   "metadata": {},
   "source": [
    "I was considering how AI can explore and tell us information that can be found on social media or Reddit threads. When asking AI for information, they often sythesize information and very objective information. However, I wanted to see if AI can tap into more social and subjective sources of information. So, I decided to ask ChatGPT to tell me about what the Penn student experience and information that can not be found on Penn websites.\n",
    "\n",
    "This is how my conversation with ChatGPT went:"
   ]
  },
  {
   "cell_type": "markdown",
   "id": "13895122-3b78-4d64-9c78-000dafdcbb16",
   "metadata": {},
   "source": [
    "**Tell me about the student experience of UPenn students. Don't tell me information you can find on UPenn websites, but rather the real student experience**"
   ]
  },
  {
   "cell_type": "markdown",
   "id": "f7083797-782f-49ea-af1d-7bcef4c228f2",
   "metadata": {},
   "source": [
    "Here’s a synthesis of what real students say about life at Penn — beyond the glossy brochures. Of course, individual experiences vary a lot by major, residence, social preferences, background etc., but there are recurring themes in Reddit threads, interviews, blogs, etc. If you want I can also collect some very recent student quotes.\n",
    "\n",
    "What many Penn students do like\n",
    "\n",
    "1. Academic resources & challenge\n",
    "\n",
    "- Students often appreciate the depth and breadth of courses, especially in fields like Wharton, SEAS, CAS. Professors tend to be knowledgeable, there are many opportunities (research, interdisciplinary options) for those who seek them.\n",
    "\n",
    "- There’s also access to labs, seminars, guest lecturers, global programs — for students who take initiative, there’s a lot to explore.\n",
    "\n",
    "2. Strong peer community among intellectually curious people\n",
    "\n",
    "- Many point out that you can meet people who are passionate about lots of different fields: arts, engineering, social sciences, business. That helps; you’re surrounded by people who push you, inspire you.\n",
    "\n",
    "- Clubs and extracurriculars are very active. If you like to do something — music, theatre, activism, startups — there’s something for you.\n",
    "\n",
    "3. Social life, cultural diversity, extra-curricular richness\n",
    "\n",
    "- Because it’s Penn, and because Philadelphia has its own culture, there are countless options: local food, cafés, music, art, museums. Penn students often mention enjoying the city, especially in areas near University City.\n",
    "\n",
    "- Students also like traditions & student-led events; when you join a few clubs or social circles, you get a genuine sense of belonging.\n",
    "\n",
    "4. Flexibility\n",
    "\n",
    "- Students frequently say you can mix & match: minor/major, double major, take courses outside your school (for example a Wharton student doing something in the arts). You’ve got the freedom to explore.\n",
    "\n",
    "- There is also a lot of support infrastructure (writing, tutoring, career advising) if you use it well.\n",
    "\n",
    "What students often struggle with\n",
    "\n",
    "1. Competition & pressure\n",
    "\n",
    "- A very common theme: people talk about how hard things hit — rigorous coursework, heavy workloads, grade curves. Some students say that “everyone is smart” so even “average” feels hard.\n",
    "\n",
    "- There’s pressure not just academically, but to build a strong resume: internships, extracurricular achievements, networking. For some, balancing all that with mental health, social life, rest is difficult. A Redditor put it: “you constantly feel like sharing a small victory in a class feels like bragging… and not doing as well as someone else makes you seem as if you’re stupid.” \n",
    "Reddit\n",
    "\n",
    "2. Culture of comparison\n",
    "\n",
    "- Because many students are high-achievers, comparison is almost inevitable: who’s doing the more “prestigious” internship, who’s heading to what grad school, etc. Some students find that motivational; others find it draining.\n",
    "\n",
    "- Also, due to curves or limited spots in popular courses, competition for those is intense.\n",
    "\n",
    "3. “Work hard, play hard” tensions / social trade-offs\n",
    "\n",
    "- Students often mention that the party / social scene is active. But if you’re not into that, or want quieter, more consistent, balanced social life, it takes some effort to find your people. Some say they felt outside of the “frat / party” culture. \n",
    "Reddit\n",
    "+1\n",
    "\n",
    "- Time management becomes critical, and many students mention regretting not pacing themselves or trying to overcommit.\n",
    "\n",
    "4. Wellness, stress, mental health\n",
    "\n",
    "- Because the academic, social, and extracurricular expectations are high, stress is a real issue. Students often say mental health resources are there, more than in many places, but sometimes hard to access quickly or feel stigmatized.\n",
    "\n",
    "- Lack of downtime is a common complaint. Some feel guilty taking a break; others say rest is hard when everything seems competitive.\n",
    "\n",
    "5. Practical/trivial frustrations\n",
    "\n",
    "- Housing/eating: some complaint about the cost of living, housing, especially off-campus. Dining halls might run out of certain foods, or have less variety for students with special diets.\n",
    "\n",
    "- Course registration could be frustrating: popular courses fill quickly; scheduling conflicts, pre-reqs etc.\n",
    "\n",
    "- Getting to know professors: some say office hours help, but others feel professor availability or response can be spotty depending on department.\n",
    "\n",
    "5. Safety / environment\n",
    "\n",
    "- Because Penn is in Philadelphia, there are concerns about crime in certain neighborhoods, especially late at night. Some students are cautious walking off campus, especially in non-University City areas. \n",
    "Reddit\n",
    "\n",
    "- Transportation can be an issue (weather, commuting, public transit). Also being in a big city comes with both opportunities and challenges.\n",
    "\n",
    "Culture, identity, inclusion, and student activism\n",
    "\n",
    "- Penn seems to have a very active political / social activism “scene.” Students bring in strong opinions, engage in protest, debate topical issues. These things can energize but also be sources of tension. The recent pro-Palestinian encampment is an example of how protests and free speech interact with administrative policy. \n",
    "Wikipedia\n",
    "+1\n",
    "\n",
    "- Students from underrepresented backgrounds often mention both the positives (diverse communities, many international students, lots of student groups focused on identity, culture etc.) and the challenges (feeling pressure to represent, microaggressions, being “one of few” in certain classes or majors).\n",
    "\n",
    "- There’s a sense that unless you reach out, you might feel isolated at first. Many say the first year is the hardest socially (both academically adjusting and making friends).\n",
    "\n",
    "Key trade-offs / things students often say they wish they knew\n",
    "\n",
    "- That “prestige” doesn’t mean easy. A school like Penn comes with resources, but also demands. Students say they wish they had understood how much work it takes to balance grades, side projects, social life, rest.\n",
    "\n",
    "- How important time / mental well-being are; not to overload right away.\n",
    "\n",
    "- The idea that it’s okay to say no — you don’t have to join every club or chase every internship. Depth over breadth often ends up being more satisfying.\n",
    "\n",
    "- That your social group shapes much of the experience: If you find people you connect with, the pressure can lessen; if not, the social comparison feels sharper.\n",
    "\n",
    "- The importance of “finding your people” — once students plug into groups that share their interests (academic or non-academic), that tends to make things much more fulfilling.\n",
    "\n",
    "- If you like, I can gather some current Penn students’ quotes from social media (Reddit etc.) to show how people are talking now. Do you want that?"
   ]
  },
  {
   "cell_type": "markdown",
   "id": "d19faf44-a3d2-4d23-b996-064b4ce99997",
   "metadata": {},
   "source": [
    "**Create an image of what you think the Penn student experience is like**"
   ]
  },
  {
   "cell_type": "markdown",
   "id": "7335c00c-fd14-4555-8526-2b25a7603a60",
   "metadata": {},
   "source": [
    "ChatGPT responded with this picture:"
   ]
  },
  {
   "cell_type": "markdown",
   "id": "177c5ed9-3615-44a1-9a4e-b72b2a932c07",
   "metadata": {},
   "source": [
    "![](pennai.png)"
   ]
  },
  {
   "cell_type": "markdown",
   "id": "acbd1b34-5ff6-4ce9-9663-a01bfd3f28be",
   "metadata": {},
   "source": [
    "***Conclusion***"
   ]
  },
  {
   "cell_type": "markdown",
   "id": "c2274cbb-b6a4-45cf-85e2-940a2d648f43",
   "metadata": {},
   "source": [
    "I was not impressed with ChatGPT's recount of the Penn student experience. The information was very generic, with only some information pertaining to Penn, like when the AI mentioned resources. The bulk of the information given can easily be said about any other college and is not specific to Penn. I was expecting ChatGPT to talk about Penn Dining, the fraternity and sorority life, or mention specific classes that are hard. Additionally, I was expecting ChatGPT to mention phrases--like \"Penn Face\"--that are common among Penn students and help define the student experience at Penn. The image of Penn students was interesting. The buildings in the background of the image are strongly reminiscent of College Green and Williams Hall. The aesthetic and architectural style is very similar but the buildings are inaccurate to any buildings on Penn's campus."
   ]
  },
  {
   "cell_type": "code",
   "execution_count": null,
   "id": "343f6ee7-72bf-46df-b8c3-78aff1feaaac",
   "metadata": {},
   "outputs": [],
   "source": []
  }
 ],
 "metadata": {
  "kernelspec": {
   "display_name": "Python 3-12 (COMM4190)",
   "language": "python",
   "name": "python3-12_comm4190"
  },
  "language_info": {
   "codemirror_mode": {
    "name": "ipython",
    "version": 3
   },
   "file_extension": ".py",
   "mimetype": "text/x-python",
   "name": "python",
   "nbconvert_exporter": "python",
   "pygments_lexer": "ipython3",
   "version": "3.12.11"
  }
 },
 "nbformat": 4,
 "nbformat_minor": 5
}

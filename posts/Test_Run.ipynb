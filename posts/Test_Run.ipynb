{
 "cells": [
  {
   "cell_type": "raw",
   "id": "6af4f9e0-6836-47f5-9038-ef08f5373b8f",
   "metadata": {},
   "source": [
    "medical_knowledge.ipynb"
   ]
  },
  {
   "cell_type": "code",
   "execution_count": null,
   "id": "968aab9a-9ce0-40a0-8417-d138608cfb30",
   "metadata": {},
   "outputs": [],
   "source": [
    "title: \"Prompting for medical knowledge\"\n",
    "description: \"How do you get LLMs to give accurate medical responses\" \n",
    "author: \"Nicholas\"\n",
    "date: \"9/3/2025\"\n",
    "categories:\n",
    "  - LLMs\n",
    "  - Medical knowledge"
   ]
  },
  {
   "cell_type": "code",
   "execution_count": null,
   "id": "e1f42773-18ba-45b3-8895-16b29fa9000a",
   "metadata": {},
   "outputs": [],
   "source": []
  }
 ],
 "metadata": {
  "kernelspec": {
   "display_name": "Python 3-12 (COMM4190)",
   "language": "python",
   "name": "python3-12_comm4190"
  },
  "language_info": {
   "codemirror_mode": {
    "name": "ipython",
    "version": 3
   },
   "file_extension": ".py",
   "mimetype": "text/x-python",
   "name": "python",
   "nbconvert_exporter": "python",
   "pygments_lexer": "ipython3",
   "version": "3.12.11"
  }
 },
 "nbformat": 4,
 "nbformat_minor": 5
}

{
 "cells": [
  {
   "cell_type": "raw",
   "id": "9a37e239-dd65-43d1-9cb6-3bbcde197558",
   "metadata": {},
   "source": [
    "---\n",
    "title: \"Can AI make playlists?\"\n",
    "description: \"I explore if AI can generate a playlist depending on the mood and vibe.\" \n",
    "author: \"Nicholas\"\n",
    "date: \"9/29/2025\"\n",
    "categories:\n",
    "  - LLMs\n",
    "  - Music\n",
    "---"
   ]
  },
  {
   "cell_type": "markdown",
   "id": "2ddac443-f571-4ad6-9b9a-ac9f422b3ef1",
   "metadata": {},
   "source": [
    "![](cozyplaylist.jpg)"
   ]
  },
  {
   "cell_type": "markdown",
   "id": "80a63eac-4d77-4b6c-a696-af9f81cfa653",
   "metadata": {},
   "source": [
    "One of my favorite hobbies is making playlists on Spotify. I enjoy putting together songs depending on a set theme, like mood, season, use occassion, even weather. I know other people enjoy making playlists too. Curating playlists and mixes are a strong form of creatvity, and even art, so I was curious to see if AI can also make playlists."
   ]
  },
  {
   "cell_type": "markdown",
   "id": "a4cf62d1-a435-47d5-a269-2249074981b6",
   "metadata": {},
   "source": [
    "I asked athropic/claude-3.5 to make a fall playlist for me. This is how the conversation went: "
   ]
  },
  {
   "cell_type": "markdown",
   "id": "58afd3e8-8fea-46ef-9924-ed94b08cb577",
   "metadata": {},
   "source": [
    "**create a cozy fall playlist**"
   ]
  },
  {
   "cell_type": "markdown",
   "id": "59678d73-3051-463e-90b4-94b9fe48e274",
   "metadata": {},
   "source": [
    "Here's a cozy fall playlist that combines indie, folk, and mellow songs perfect for autumn:\n",
    "\n",
    "1. Sweater Weather - The Neighbourhood\n",
    "2. September Song - Agnes Obel\n",
    "3. Autumn Leaves - Ed Sheeran\n",
    "4. Fall Line - Jack Johnson\n",
    "5. October Trees - Roo Panes\n",
    "6. Harvest Moon - Neil Young\n",
    "7. Autumn Town Leaves - Iron & Wine\n",
    "8. All Too Well - Taylor Swift\n",
    "9. Holocene - Bon Iver\n",
    "10. Wake Me Up When September Ends - Green Day\n",
    "11. California Dreamin' - The Mamas & The Papas\n",
    "12. Autumn's Love - Gregory Alan Isakov\n",
    "13. First Day of My Life - Bright Eyes\n",
    "14. Rivers and Roads - The Head and the Heart\n",
    "15. Yellow - Coldplay\n",
    "16. Flightless Bird, American Mouth - Iron & Wine\n",
    "17. Coffee - Beabadoobee\n",
    "18. autumn leaves - mac miller\n",
    "19. We're Going Home - Vance Joy\n",
    "20. The Only Thing - Sufjan Stevens\n",
    "\n",
    "These songs feature warm, acoustic sounds and contemplative lyrics that match the autumn mood. Perfect for sipping hot drinks, reading, or watching leaves fall!"
   ]
  },
  {
   "cell_type": "markdown",
   "id": "85c13062-85e6-4887-988c-eb1792c0f07e",
   "metadata": {},
   "source": [
    "**Create a soca playlist**"
   ]
  },
  {
   "cell_type": "markdown",
   "id": "693837ea-cdac-455e-a96c-5ed4d747239f",
   "metadata": {},
   "source": [
    "Here's an energetic soca playlist featuring classic and modern soca hits:\n",
    "\n",
    "1. Big Truck - Machel Montano\n",
    "2. Famalay - Machel Montano, Bunji Garlin & Skinny Fabulous\n",
    "3. Savannah Grass - Kes\n",
    "4. Year for Love - Aaron \"Voice\" St. Louis\n",
    "5. Pump Yuh Flag - Destra Garcia\n",
    "6. Differentology - Bunji Garlin\n",
    "7. Sugar Bum Bum - Lord Kitchener\n",
    "8. Palance - JW & Blaze\n",
    "9. Lucy - Destra Garcia\n",
    "10. Inside the Festival - Kes\n",
    "11. Advantage - Machel Montano\n",
    "12. Carnival Tabanca - Bunji Garlin\n",
    "13. Stage Gone Bad - Bunji Garlin & Machel Montano\n",
    "14. Bacchanalist - Kerwin Du Bois\n",
    "15. Wotless - Kes\n",
    "16. Miss Behave - Rupee\n",
    "17. Possessed - Machel Montano\n",
    "18. Tempted to Touch - Rupee\n",
    "19. Soca Kingdom - Machel Montano & Super Blue\n",
    "20. Manager - Destra Garcia\n",
    "21. Bottle of Rum - Patrice Roberts\n",
    "22. Party Done - Machel Montano & Angela Hunte\n",
    "23. Rolly Polly - Mr. Killa\n",
    "24. Dear Promoter - Lyrikal\n",
    "25. Buss Head - Machel Montano & Bunji Garlin\n",
    "\n",
    "This playlist features a mix of road march winners, carnival anthems, and popular soca tracks perfect for getting you in the carnival spirit or just dancing!"
   ]
  },
  {
   "cell_type": "markdown",
   "id": "2cf33a69-44ae-4c69-a652-b112d9a3da4d",
   "metadata": {},
   "source": [
    "***Reflection***"
   ]
  },
  {
   "cell_type": "markdown",
   "id": "02a05435-9a97-4db2-99a7-e5c01e7e2cfc",
   "metadata": {},
   "source": [
    "This was an interesting exercise. The AI did very well. It was able to generate a list of songs that give a fall and cozy vibe. The songs it put on the playlist are songs I have on my own playlists. I wonder if AI found other fall and cozy titled playlist and generated the most common songs. After it generated mostly American and European songs, I asked it to generate a soca playlist, which is the main genre of the Caribbean. The playlist was also accurate and included popular songs! I was shocked to see the AI create a playlist for a very niche music genre. "
   ]
  },
  {
   "cell_type": "code",
   "execution_count": null,
   "id": "6d80dc93-f454-4584-b48e-acbed06ff098",
   "metadata": {},
   "outputs": [],
   "source": []
  }
 ],
 "metadata": {
  "kernelspec": {
   "display_name": "Python 3-12 (COMM4190)",
   "language": "python",
   "name": "python3-12_comm4190"
  },
  "language_info": {
   "codemirror_mode": {
    "name": "ipython",
    "version": 3
   },
   "file_extension": ".py",
   "mimetype": "text/x-python",
   "name": "python",
   "nbconvert_exporter": "python",
   "pygments_lexer": "ipython3",
   "version": "3.12.11"
  }
 },
 "nbformat": 4,
 "nbformat_minor": 5
}

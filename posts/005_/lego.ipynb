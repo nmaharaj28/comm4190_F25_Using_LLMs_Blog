{
 "cells": [
  {
   "cell_type": "raw",
   "id": "e1299f29-296b-4226-9dd5-fca131e4be1b",
   "metadata": {},
   "source": [
    "---\n",
    "title: \"AI and Legos\"\n",
    "description: \"I explore if artificial intelligence can turn images into Lego minifigures and designs.\" \n",
    "author: \"Nicholas\"\n",
    "date: \"9/10/2025\"\n",
    "categories:\n",
    "  - LLMs\n",
    "  - Art\n",
    "---"
   ]
  },
  {
   "cell_type": "markdown",
   "id": "b2b2149f-4825-43ad-b178-708718048ce8",
   "metadata": {},
   "source": [
    "After my recent blog post where I had ChatGPT turn my family portrait into a crayon drawing, I was curious to see what other creative designs AI can replicate. As a big fan of Lego, I asked ChatGPT to create a Lego minifigure based on a picture of myself."
   ]
  },
  {
   "cell_type": "markdown",
   "id": "5f520d9d-299c-48e6-b13e-bf0bffcb93f6",
   "metadata": {},
   "source": [
    "Here is how my conversation with ChatGBT went:"
   ]
  },
  {
   "cell_type": "markdown",
   "id": "f9c3b910-6e61-4e5c-913d-67435ac3767c",
   "metadata": {},
   "source": [
    "**Turn me into a Lego minifigure**"
   ]
  },
  {
   "cell_type": "markdown",
   "id": "b6e066d0-a394-46b5-9a64-557d4b0e5063",
   "metadata": {},
   "source": [
    "![](nycpic.png)"
   ]
  },
  {
   "cell_type": "markdown",
   "id": "e1679cdd-97ab-434c-96b4-1790f14a249a",
   "metadata": {},
   "source": [
    "ChatGBT responded with this picture:"
   ]
  },
  {
   "cell_type": "markdown",
   "id": "f7e7a205-6f0d-4de8-8fca-a9097aa0dec7",
   "metadata": {},
   "source": [
    "![](legoai.png)"
   ]
  },
  {
   "cell_type": "markdown",
   "id": "2e405bec-aff3-4334-9a29-3ef858c623a5",
   "metadata": {},
   "source": [
    "This was a fun prompt for AI. It prompts me to think about whether Lego engineers and designers are going to begin using AI to create their products. I also begin to wonder if some Lego designers have their jobs in jeopardy due to AI's ability to turn pictures into Lego designs. The picture that ChatGPT gave me was fairly accurate. ChatGPT even went the extra mile and turned the boat in the picture into Legos, too. Something inaccurate about the photo AI gave me is that the right sleeve color should be tan, not green. However, ChatGPT gave an impressive recreation of the photo into Lego, furthering the debate and fear about AI's role in creative design and art. "
   ]
  },
  {
   "cell_type": "code",
   "execution_count": 2,
   "id": "7af738d5-cfbe-42c7-bf3f-ea6a1e1e5d1a",
   "metadata": {},
   "outputs": [
    {
     "name": "stdout",
     "output_type": "stream",
     "text": [
      "/bin/bash: -c: line 1: syntax error near unexpected token `aipic.png'\n",
      "/bin/bash: -c: line 1: `[](aipic.png)'\n"
     ]
    }
   ],
   "source": [
    "![](aipic.png)"
   ]
  },
  {
   "cell_type": "code",
   "execution_count": null,
   "id": "2e540157-6c42-4dbf-bcb2-0bd26974fa8c",
   "metadata": {},
   "outputs": [],
   "source": []
  }
 ],
 "metadata": {
  "kernelspec": {
   "display_name": "Python 3-12 (COMM4190)",
   "language": "python",
   "name": "python3-12_comm4190"
  },
  "language_info": {
   "codemirror_mode": {
    "name": "ipython",
    "version": 3
   },
   "file_extension": ".py",
   "mimetype": "text/x-python",
   "name": "python",
   "nbconvert_exporter": "python",
   "pygments_lexer": "ipython3",
   "version": "3.12.11"
  }
 },
 "nbformat": 4,
 "nbformat_minor": 5
}

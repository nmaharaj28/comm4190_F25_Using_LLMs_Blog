{
 "cells": [
  {
   "cell_type": "raw",
   "id": "6af4f9e0-6836-47f5-9038-ef08f5373b8f",
   "metadata": {},
   "source": [
    "Asking_Ai_to_tell_me_a_joke.ipynb"
   ]
  },
  {
   "cell_type": "raw",
   "id": "1af2acec-3856-4aa4-b1eb-af1ddd239a39",
   "metadata": {},
   "source": [
    "title: \"Can I make me laugh?\"\n",
    "description: \"I explore if artificial intelligence is smart and creative enough to tell me a joke and make me laugh.\" \n",
    "author: \"Nicholas\"\n",
    "date: \"9/3/2025\"\n",
    "categories:\n",
    "  - LLMs\n",
    "  - Jokes"
   ]
  },
  {
   "cell_type": "markdown",
   "id": "57f10084-ff58-4c1c-a8d3-dcb0f362b3d2",
   "metadata": {},
   "source": [
    "I asked ChatGBT is if it can tell me a joke, because I wanted to test to see if AI can make me laugh. I was curious to see if AI is creative enough to tell jokes."
   ]
  },
  {
   "cell_type": "markdown",
   "id": "f302747a-abf3-4998-95ce-ebe560ca2ff1",
   "metadata": {},
   "source": [
    "Here is how my conversation with ChatGBT went:"
   ]
  },
  {
   "cell_type": "markdown",
   "id": "217228af-90b1-4f45-aa33-8b603b6a85fd",
   "metadata": {},
   "source": [
    "**Tell me a joke to make me laugh**"
   ]
  },
  {
   "cell_type": "markdown",
   "id": "27a55282-7302-4fed-a08f-dc88e0494b79",
   "metadata": {},
   "source": [
    "Sure thing—here’s one for you:\n",
    "\n",
    "Why don’t graveyards ever get overcrowded?\n",
    "\n",
    "Because people are dying to get in. 🪦😅\n",
    "\n",
    "Want me to go darker, more clever, or just plain silly with the next one?"
   ]
  },
  {
   "cell_type": "markdown",
   "id": "f4380e3f-ec5d-4c18-b5e3-503d1a16a56d",
   "metadata": {},
   "source": [
    "**Do a plain silly one**"
   ]
  },
  {
   "cell_type": "markdown",
   "id": "d6dd9c7c-12e5-4f96-9108-2b5bc86ae926",
   "metadata": {},
   "source": [
    "Alright, here’s a plain silly one:\n",
    "\n",
    "Why can’t you trust stairs?\n",
    "\n",
    "Because they’re always up to something! 😆\n",
    "\n",
    "Want me to throw in a punny one next?"
   ]
  },
  {
   "cell_type": "markdown",
   "id": "09838ea2-58a2-4364-9e55-6af8d19940ae",
   "metadata": {},
   "source": [
    "![](AI1.png)"
   ]
  },
  {
   "cell_type": "markdown",
   "id": "39ccaa2b-2b97-4b7c-80e4-f4229198d118",
   "metadata": {},
   "source": [
    "This conversation was very interesting, even though it was minimal. I was shocked to see how ChatGPT used dark humor and joked about cemeteries. I also thought the interaction would be more similar to a conversation, where ChatGPT would give me a chance to answer the initial question instead of immediately telling me the answer. It felt like ChatGPT was simply giving me an example of a joke, instead of interacting with me. I also found it interesting how ChatGPT used emojis. It made the interaction seem friendly and even silly, which matches the prompt of asking for a joke. Finally, ChatGPT told me it can provide me with different jokes of different genres, which kept me engaged with AI longer than I expected. Overall, though, I did not find the jokes funny, so it failed in making me laugh. "
   ]
  }
 ],
 "metadata": {
  "kernelspec": {
   "display_name": "Python 3-12 (COMM4190)",
   "language": "python",
   "name": "python3-12_comm4190"
  },
  "language_info": {
   "codemirror_mode": {
    "name": "ipython",
    "version": 3
   },
   "file_extension": ".py",
   "mimetype": "text/x-python",
   "name": "python",
   "nbconvert_exporter": "python",
   "pygments_lexer": "ipython3",
   "version": "3.12.11"
  }
 },
 "nbformat": 4,
 "nbformat_minor": 5
}
